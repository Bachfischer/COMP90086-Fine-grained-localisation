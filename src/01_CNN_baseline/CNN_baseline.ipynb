{
 "cells": [
  {
   "cell_type": "code",
   "execution_count": 40,
   "metadata": {
    "_cell_guid": "b1076dfc-b9ad-4769-8c92-a6c4dae69d19",
    "_uuid": "8f2839f25d086af736a60e9eeb907d3b93b6e0e5",
    "execution": {
     "iopub.execute_input": "2021-09-20T22:31:03.709806Z",
     "iopub.status.busy": "2021-09-20T22:31:03.709518Z",
     "iopub.status.idle": "2021-09-20T22:31:03.714113Z",
     "shell.execute_reply": "2021-09-20T22:31:03.713405Z",
     "shell.execute_reply.started": "2021-09-20T22:31:03.709780Z"
    }
   },
   "outputs": [],
   "source": [
    "import numpy as np # linear algebra\n",
    "import pandas as pd # data processing, CSV file I/O (e.g. pd.read_csv)\n",
    "import matplotlib.pyplot as plt\n",
    "import os\n",
    "import tensorflow as tf\n",
    "from tensorflow import keras\n",
    "from tensorflow.keras import layers"
   ]
  },
  {
   "cell_type": "code",
   "execution_count": 41,
   "metadata": {
    "execution": {
     "iopub.execute_input": "2021-09-20T22:31:03.783470Z",
     "iopub.status.busy": "2021-09-20T22:31:03.782964Z",
     "iopub.status.idle": "2021-09-20T22:31:03.808979Z",
     "shell.execute_reply": "2021-09-20T22:31:03.808153Z",
     "shell.execute_reply.started": "2021-09-20T22:31:03.783440Z"
    }
   },
   "outputs": [
    {
     "data": {
      "text/html": [
       "<div>\n",
       "<style scoped>\n",
       "    .dataframe tbody tr th:only-of-type {\n",
       "        vertical-align: middle;\n",
       "    }\n",
       "\n",
       "    .dataframe tbody tr th {\n",
       "        vertical-align: top;\n",
       "    }\n",
       "\n",
       "    .dataframe thead th {\n",
       "        text-align: right;\n",
       "    }\n",
       "</style>\n",
       "<table border=\"1\" class=\"dataframe\">\n",
       "  <thead>\n",
       "    <tr style=\"text-align: right;\">\n",
       "      <th></th>\n",
       "      <th>id</th>\n",
       "      <th>x</th>\n",
       "      <th>y</th>\n",
       "    </tr>\n",
       "  </thead>\n",
       "  <tbody>\n",
       "    <tr>\n",
       "      <th>0</th>\n",
       "      <td>IMG2744_1</td>\n",
       "      <td>-9.380678</td>\n",
       "      <td>3.58272</td>\n",
       "    </tr>\n",
       "    <tr>\n",
       "      <th>1</th>\n",
       "      <td>IMG2744_2</td>\n",
       "      <td>-9.380678</td>\n",
       "      <td>3.58272</td>\n",
       "    </tr>\n",
       "    <tr>\n",
       "      <th>2</th>\n",
       "      <td>IMG2744_3</td>\n",
       "      <td>-9.380678</td>\n",
       "      <td>3.58272</td>\n",
       "    </tr>\n",
       "    <tr>\n",
       "      <th>3</th>\n",
       "      <td>IMG2744_4</td>\n",
       "      <td>-9.380678</td>\n",
       "      <td>3.58272</td>\n",
       "    </tr>\n",
       "    <tr>\n",
       "      <th>4</th>\n",
       "      <td>IMG2744_5</td>\n",
       "      <td>-9.380678</td>\n",
       "      <td>3.58272</td>\n",
       "    </tr>\n",
       "    <tr>\n",
       "      <th>...</th>\n",
       "      <td>...</td>\n",
       "      <td>...</td>\n",
       "      <td>...</td>\n",
       "    </tr>\n",
       "    <tr>\n",
       "      <th>7495</th>\n",
       "      <td>IMG4243_1</td>\n",
       "      <td>-4.680678</td>\n",
       "      <td>35.18272</td>\n",
       "    </tr>\n",
       "    <tr>\n",
       "      <th>7496</th>\n",
       "      <td>IMG4243_2</td>\n",
       "      <td>-4.680678</td>\n",
       "      <td>35.18272</td>\n",
       "    </tr>\n",
       "    <tr>\n",
       "      <th>7497</th>\n",
       "      <td>IMG4243_3</td>\n",
       "      <td>-4.680678</td>\n",
       "      <td>35.18272</td>\n",
       "    </tr>\n",
       "    <tr>\n",
       "      <th>7498</th>\n",
       "      <td>IMG4243_4</td>\n",
       "      <td>-4.680678</td>\n",
       "      <td>35.18272</td>\n",
       "    </tr>\n",
       "    <tr>\n",
       "      <th>7499</th>\n",
       "      <td>IMG4243_5</td>\n",
       "      <td>-4.680678</td>\n",
       "      <td>35.18272</td>\n",
       "    </tr>\n",
       "  </tbody>\n",
       "</table>\n",
       "<p>7500 rows × 3 columns</p>\n",
       "</div>"
      ],
      "text/plain": [
       "             id         x         y\n",
       "0     IMG2744_1 -9.380678   3.58272\n",
       "1     IMG2744_2 -9.380678   3.58272\n",
       "2     IMG2744_3 -9.380678   3.58272\n",
       "3     IMG2744_4 -9.380678   3.58272\n",
       "4     IMG2744_5 -9.380678   3.58272\n",
       "...         ...       ...       ...\n",
       "7495  IMG4243_1 -4.680678  35.18272\n",
       "7496  IMG4243_2 -4.680678  35.18272\n",
       "7497  IMG4243_3 -4.680678  35.18272\n",
       "7498  IMG4243_4 -4.680678  35.18272\n",
       "7499  IMG4243_5 -4.680678  35.18272\n",
       "\n",
       "[7500 rows x 3 columns]"
      ]
     },
     "execution_count": 41,
     "metadata": {},
     "output_type": "execute_result"
    }
   ],
   "source": [
    "train_df = pd.read_csv(\"../input/comp90086-2021/COMP90086_2021_Project_train/train.csv\")\n",
    "train_df"
   ]
  },
  {
   "cell_type": "code",
   "execution_count": 42,
   "metadata": {
    "execution": {
     "iopub.execute_input": "2021-09-20T22:31:03.810916Z",
     "iopub.status.busy": "2021-09-20T22:31:03.810599Z",
     "iopub.status.idle": "2021-09-20T22:31:03.896486Z",
     "shell.execute_reply": "2021-09-20T22:31:03.895704Z",
     "shell.execute_reply.started": "2021-09-20T22:31:03.810881Z"
    }
   },
   "outputs": [
    {
     "data": {
      "text/plain": [
       "0        (-9.380678081, 3.58271965)\n",
       "1        (-9.380678081, 3.58271965)\n",
       "2        (-9.380678081, 3.58271965)\n",
       "3        (-9.380678081, 3.58271965)\n",
       "4        (-9.380678081, 3.58271965)\n",
       "                   ...             \n",
       "7495    (-4.680678082, 35.18271965)\n",
       "7496    (-4.680678082, 35.18271965)\n",
       "7497    (-4.680678082, 35.18271965)\n",
       "7498    (-4.680678082, 35.18271965)\n",
       "7499    (-4.680678082, 35.18271965)\n",
       "Length: 7500, dtype: object"
      ]
     },
     "execution_count": 42,
     "metadata": {},
     "output_type": "execute_result"
    }
   ],
   "source": [
    "# convert to tuples to pass labels to tf datasets\n",
    "targets = train_df.iloc[:, 1:3].apply(tuple, axis = 1)\n",
    "targets"
   ]
  },
  {
   "cell_type": "code",
   "execution_count": 43,
   "metadata": {
    "execution": {
     "iopub.execute_input": "2021-09-20T22:31:03.898167Z",
     "iopub.status.busy": "2021-09-20T22:31:03.897916Z",
     "iopub.status.idle": "2021-09-20T22:31:03.906511Z",
     "shell.execute_reply": "2021-09-20T22:31:03.905687Z",
     "shell.execute_reply.started": "2021-09-20T22:31:03.898135Z"
    }
   },
   "outputs": [
    {
     "data": {
      "text/plain": [
       "PosixPath('../input/comp90086-2021/COMP90086_2021_Project_train')"
      ]
     },
     "execution_count": 43,
     "metadata": {},
     "output_type": "execute_result"
    }
   ],
   "source": [
    "batch_size = 32\n",
    "img_height = 680\n",
    "img_width = 490\n",
    "\n",
    "data_dir = pathlib.Path(\"../input/comp90086-2021/COMP90086_2021_Project_train\")\n",
    "data_dir"
   ]
  },
  {
   "cell_type": "code",
   "execution_count": 44,
   "metadata": {
    "execution": {
     "iopub.execute_input": "2021-09-20T22:31:03.909352Z",
     "iopub.status.busy": "2021-09-20T22:31:03.908976Z",
     "iopub.status.idle": "2021-09-20T22:31:03.914151Z",
     "shell.execute_reply": "2021-09-20T22:31:03.913522Z",
     "shell.execute_reply.started": "2021-09-20T22:31:03.909318Z"
    }
   },
   "outputs": [],
   "source": [
    "#from sklearn.preprocessing import MinMaxScaler\n",
    "#from sklearn.model_selection import train_test_split\n",
    "\n",
    "\n",
    "#scaler = MinMaxScaler()\n",
    "#target_scaler = scaler.fit(train_df.iloc[:, 1:3])\n",
    "\n",
    "#targets = target_scaler.transform(train_df.iloc[:, 1:3])"
   ]
  },
  {
   "cell_type": "code",
   "execution_count": 45,
   "metadata": {
    "execution": {
     "iopub.execute_input": "2021-09-20T22:31:03.916003Z",
     "iopub.status.busy": "2021-09-20T22:31:03.915723Z",
     "iopub.status.idle": "2021-09-20T22:31:04.300388Z",
     "shell.execute_reply": "2021-09-20T22:31:04.299584Z",
     "shell.execute_reply.started": "2021-09-20T22:31:03.915972Z"
    }
   },
   "outputs": [
    {
     "name": "stdout",
     "output_type": "stream",
     "text": [
      "Found 7500 files belonging to 1 classes.\n",
      "Using 6000 files for training.\n"
     ]
    }
   ],
   "source": [
    "train_ds = tf.keras.preprocessing.image_dataset_from_directory(\n",
    "  data_dir,\n",
    "  labels=targets.tolist(),\n",
    "  validation_split=0.2,\n",
    "  subset=\"training\",\n",
    "  seed = 123,\n",
    "  image_size=(img_height, img_width),\n",
    "  batch_size=batch_size)"
   ]
  },
  {
   "cell_type": "code",
   "execution_count": 46,
   "metadata": {
    "execution": {
     "iopub.execute_input": "2021-09-20T22:31:04.302697Z",
     "iopub.status.busy": "2021-09-20T22:31:04.301571Z",
     "iopub.status.idle": "2021-09-20T22:31:04.567197Z",
     "shell.execute_reply": "2021-09-20T22:31:04.566536Z",
     "shell.execute_reply.started": "2021-09-20T22:31:04.302657Z"
    }
   },
   "outputs": [
    {
     "name": "stdout",
     "output_type": "stream",
     "text": [
      "Found 7500 files belonging to 1 classes.\n",
      "Using 1500 files for validation.\n"
     ]
    }
   ],
   "source": [
    "val_ds = tf.keras.preprocessing.image_dataset_from_directory(\n",
    "  data_dir,\n",
    "  labels=targets.tolist(),\n",
    "  validation_split=0.2,\n",
    "  subset=\"validation\",\n",
    "  seed=123,\n",
    "  image_size=(img_height, img_width),\n",
    "  batch_size=batch_size)"
   ]
  },
  {
   "cell_type": "code",
   "execution_count": 47,
   "metadata": {
    "execution": {
     "iopub.execute_input": "2021-09-20T22:31:04.569751Z",
     "iopub.status.busy": "2021-09-20T22:31:04.569515Z",
     "iopub.status.idle": "2021-09-20T22:31:06.150257Z",
     "shell.execute_reply": "2021-09-20T22:31:06.149508Z",
     "shell.execute_reply.started": "2021-09-20T22:31:04.569727Z"
    }
   },
   "outputs": [],
   "source": [
    "for images, labels in train_ds.take(1):  # only take first element of dataset\n",
    "    numpy_images = images.numpy()\n",
    "    numpy_labels = labels.numpy()"
   ]
  },
  {
   "cell_type": "code",
   "execution_count": 48,
   "metadata": {
    "execution": {
     "iopub.execute_input": "2021-09-20T22:31:06.153913Z",
     "iopub.status.busy": "2021-09-20T22:31:06.153691Z",
     "iopub.status.idle": "2021-09-20T22:31:06.164917Z",
     "shell.execute_reply": "2021-09-20T22:31:06.164162Z",
     "shell.execute_reply.started": "2021-09-20T22:31:06.153888Z"
    }
   },
   "outputs": [
    {
     "data": {
      "text/plain": [
       "array([[  43.31932  ,    9.982719 ],\n",
       "       [   9.619322 ,   24.78272  ],\n",
       "       [ -66.18068  ,   86.88272  ],\n",
       "       [-127.980675 ,  110.88272  ],\n",
       "       [  64.11932  ,  -66.31728  ],\n",
       "       [-101.78068  ,  107.18272  ],\n",
       "       [ -69.78068  ,  107.08272  ],\n",
       "       [  67.41932  ,  -24.51728  ],\n",
       "       [  73.31932  ,  -33.01728  ],\n",
       "       [-158.18068  ,   81.98272  ],\n",
       "       [-107.88068  ,   93.58272  ],\n",
       "       [ -43.380676 ,   44.68272  ],\n",
       "       [  52.619324 ,  -13.61728  ],\n",
       "       [  -2.280678 ,   25.08272  ],\n",
       "       [  14.719322 ,   25.48272  ],\n",
       "       [ -49.68068  ,   44.082718 ],\n",
       "       [ -86.38068  ,  120.28272  ],\n",
       "       [  64.31932  ,  -29.617281 ],\n",
       "       [  47.31932  ,  -20.21728  ],\n",
       "       [  50.31932  ,    1.4827197],\n",
       "       [ -85.38068  ,   56.68272  ],\n",
       "       [  67.019325 ,  -23.617281 ],\n",
       "       [  66.31932  ,  -64.41728  ],\n",
       "       [  -8.480679 ,  -22.91728  ],\n",
       "       [  52.719322 ,    2.7827196],\n",
       "       [ -42.280678 ,   46.68272  ],\n",
       "       [  52.619324 ,  -51.71728  ],\n",
       "       [  73.61932  ,  -35.51728  ],\n",
       "       [  61.219322 ,  -68.01728  ],\n",
       "       [   5.119322 ,  -68.31728  ],\n",
       "       [  32.119324 ,  -26.01728  ],\n",
       "       [ -10.680678 ,   32.88272  ]], dtype=float32)"
      ]
     },
     "execution_count": 48,
     "metadata": {},
     "output_type": "execute_result"
    }
   ],
   "source": [
    "numpy_labels"
   ]
  },
  {
   "cell_type": "code",
   "execution_count": 49,
   "metadata": {
    "execution": {
     "iopub.execute_input": "2021-09-20T22:31:06.168032Z",
     "iopub.status.busy": "2021-09-20T22:31:06.167847Z",
     "iopub.status.idle": "2021-09-20T22:31:06.190242Z",
     "shell.execute_reply": "2021-09-20T22:31:06.189494Z",
     "shell.execute_reply.started": "2021-09-20T22:31:06.168011Z"
    }
   },
   "outputs": [],
   "source": [
    "num_classes = 2\n",
    "\n",
    "model = tf.keras.Sequential([\n",
    "  tf.keras.layers.experimental.preprocessing.Rescaling(1./255),\n",
    "  tf.keras.layers.Conv2D(32, 3, activation='relu'),\n",
    "  tf.keras.layers.MaxPooling2D(),\n",
    "  tf.keras.layers.Conv2D(32, 3, activation='relu'),\n",
    "  tf.keras.layers.MaxPooling2D(),\n",
    "  tf.keras.layers.Conv2D(32, 3, activation='relu'),\n",
    "  tf.keras.layers.MaxPooling2D(),\n",
    "  tf.keras.layers.Flatten(),\n",
    "  tf.keras.layers.Dense(128, activation='relu'),\n",
    "  tf.keras.layers.Dense(num_classes)\n",
    "])"
   ]
  },
  {
   "cell_type": "code",
   "execution_count": 50,
   "metadata": {
    "execution": {
     "iopub.execute_input": "2021-09-20T22:31:06.193627Z",
     "iopub.status.busy": "2021-09-20T22:31:06.193089Z",
     "iopub.status.idle": "2021-09-20T22:31:06.204931Z",
     "shell.execute_reply": "2021-09-20T22:31:06.204176Z",
     "shell.execute_reply.started": "2021-09-20T22:31:06.193590Z"
    }
   },
   "outputs": [],
   "source": [
    "from tensorflow.keras import optimizers\n",
    "model.compile(loss='mean_squared_error', optimizer=optimizers.RMSprop(lr=1e-4))"
   ]
  },
  {
   "cell_type": "code",
   "execution_count": null,
   "metadata": {
    "execution": {
     "iopub.execute_input": "2021-09-20T22:43:56.753001Z",
     "iopub.status.busy": "2021-09-20T22:43:56.752215Z"
    }
   },
   "outputs": [
    {
     "name": "stdout",
     "output_type": "stream",
     "text": [
      "Epoch 1/20\n",
      "188/188 [==============================] - 78s 408ms/step - loss: 1706.4658 - val_loss: 1789.5510\n",
      "Epoch 2/20\n",
      "188/188 [==============================] - 78s 406ms/step - loss: 1654.2590 - val_loss: 1719.9097\n",
      "Epoch 3/20\n",
      "188/188 [==============================] - 78s 408ms/step - loss: 1606.3221 - val_loss: 1975.7825\n",
      "Epoch 4/20\n",
      "188/188 [==============================] - 77s 405ms/step - loss: 1553.2928 - val_loss: 1782.4659\n",
      "Epoch 5/20\n",
      " 72/188 [==========>...................] - ETA: 40s - loss: 1507.9946"
     ]
    }
   ],
   "source": [
    "history = model.fit(train_ds, epochs=20, batch_size = batch_size, validation_data = val_ds)"
   ]
  },
  {
   "cell_type": "code",
   "execution_count": null,
   "metadata": {},
   "outputs": [],
   "source": [
    "plt.plot(history.history['loss'])\n",
    "plt.plot(history.history['val_loss'])\n",
    "plt.title('Model Loss')\n",
    "plt.ylabel('loss')\n",
    "plt.xlabel('epoch')\n",
    "plt.legend(['train', 'test'])\n",
    "plt.show()"
   ]
  },
  {
   "cell_type": "code",
   "execution_count": null,
   "metadata": {},
   "outputs": [],
   "source": [
    "test_dir = pathlib.Path(\"../input/comp90086-2021/COMP90086_2021_Project_test\")\n",
    "\n",
    "test_ds = tf.keras.preprocessing.image_dataset_from_directory(\n",
    "  test_dir,\n",
    "  label_mode=None,\n",
    "  image_size=(img_height, img_width),\n",
    "  batch_size=batch_size)"
   ]
  },
  {
   "cell_type": "code",
   "execution_count": null,
   "metadata": {},
   "outputs": [],
   "source": [
    "preds = model.predict(test_ds)"
   ]
  },
  {
   "cell_type": "code",
   "execution_count": null,
   "metadata": {},
   "outputs": [],
   "source": [
    "preds"
   ]
  },
  {
   "cell_type": "code",
   "execution_count": null,
   "metadata": {},
   "outputs": [],
   "source": [
    "import csv\n",
    "\n",
    "test_filenames = []\n",
    "with open(\"../input/comp90086-2021/COMP90086_2021_Project_test/imagenames.csv\", newline='') as inputfile:\n",
    "    reader = csv.reader(inputfile)\n",
    "    # skip header\n",
    "    header = next(reader)\n",
    "    \n",
    "    for row in reader:\n",
    "        test_filenames.append(str(row[0]))\n",
    "    \n",
    "test_filenames[0]"
   ]
  },
  {
   "cell_type": "code",
   "execution_count": null,
   "metadata": {},
   "outputs": [],
   "source": [
    "with open(\"submission.csv\",\"w\",newline=\"\") as csvfile:\n",
    "    writer=csv.writer(csvfile)\n",
    "    writer.writerow([\"id\",\"x\",\"y\"])\n",
    "    index = 0\n",
    "    for prediction in preds:\n",
    "        writer.writerow([test_filenames[index], preds[index][0], preds[index][1]])\n",
    "        index+=1"
   ]
  },
  {
   "cell_type": "code",
   "execution_count": null,
   "metadata": {},
   "outputs": [],
   "source": []
  }
 ],
 "metadata": {
  "kernelspec": {
   "display_name": "Python 3 (ipykernel)",
   "language": "python",
   "name": "python3"
  },
  "language_info": {
   "codemirror_mode": {
    "name": "ipython",
    "version": 3
   },
   "file_extension": ".py",
   "mimetype": "text/x-python",
   "name": "python",
   "nbconvert_exporter": "python",
   "pygments_lexer": "ipython3",
   "version": "3.7.7"
  }
 },
 "nbformat": 4,
 "nbformat_minor": 4
}
