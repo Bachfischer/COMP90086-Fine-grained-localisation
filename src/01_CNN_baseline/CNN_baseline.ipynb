{
 "cells": [
  {
   "cell_type": "code",
   "execution_count": 11,
   "metadata": {
    "execution": {
     "iopub.execute_input": "2021-10-21T09:05:12.522867Z",
     "iopub.status.busy": "2021-10-21T09:05:12.522213Z",
     "iopub.status.idle": "2021-10-21T09:05:12.527242Z",
     "shell.execute_reply": "2021-10-21T09:05:12.526324Z",
     "shell.execute_reply.started": "2021-10-21T09:05:12.522833Z"
    }
   },
   "outputs": [],
   "source": [
    "import numpy as np # linear algebra\n",
    "import pandas as pd # data processing, CSV file I/O (e.g. pd.read_csv)\n",
    "import matplotlib.pyplot as plt\n",
    "import os\n",
    "import pathlib\n",
    "import tensorflow as tf\n",
    "from tensorflow import keras\n",
    "from tensorflow.keras import layers"
   ]
  },
  {
   "cell_type": "code",
   "execution_count": 12,
   "metadata": {
    "execution": {
     "iopub.execute_input": "2021-10-21T09:05:12.536551Z",
     "iopub.status.busy": "2021-10-21T09:05:12.536360Z",
     "iopub.status.idle": "2021-10-21T09:05:12.562780Z",
     "shell.execute_reply": "2021-10-21T09:05:12.562061Z",
     "shell.execute_reply.started": "2021-10-21T09:05:12.536530Z"
    }
   },
   "outputs": [],
   "source": [
    "train_df = pd.read_csv(\"../input/comp90086-2021/COMP90086_2021_Project_train/train.csv\")\n",
    "train_df"
   ]
  },
  {
   "cell_type": "code",
   "execution_count": 13,
   "metadata": {
    "execution": {
     "iopub.execute_input": "2021-10-21T09:05:12.564684Z",
     "iopub.status.busy": "2021-10-21T09:05:12.564438Z",
     "iopub.status.idle": "2021-10-21T09:05:12.650276Z",
     "shell.execute_reply": "2021-10-21T09:05:12.649530Z",
     "shell.execute_reply.started": "2021-10-21T09:05:12.564654Z"
    }
   },
   "outputs": [],
   "source": [
    "# convert to tuples to pass labels to tf datasets\n",
    "targets = train_df.iloc[:, 1:3].apply(tuple, axis = 1)\n",
    "targets"
   ]
  },
  {
   "cell_type": "code",
   "execution_count": 14,
   "metadata": {
    "execution": {
     "iopub.execute_input": "2021-10-21T09:05:12.651822Z",
     "iopub.status.busy": "2021-10-21T09:05:12.651580Z",
     "iopub.status.idle": "2021-10-21T09:05:12.657707Z",
     "shell.execute_reply": "2021-10-21T09:05:12.656729Z",
     "shell.execute_reply.started": "2021-10-21T09:05:12.651792Z"
    }
   },
   "outputs": [],
   "source": [
    "batch_size = 32\n",
    "img_height = 680\n",
    "img_width = 490\n",
    "\n",
    "data_dir = pathlib.Path(\"../input/comp90086-2021/COMP90086_2021_Project_train\")\n",
    "data_dir"
   ]
  },
  {
   "cell_type": "code",
   "execution_count": 15,
   "metadata": {
    "execution": {
     "iopub.execute_input": "2021-10-21T09:05:12.660072Z",
     "iopub.status.busy": "2021-10-21T09:05:12.659628Z",
     "iopub.status.idle": "2021-10-21T09:05:17.862099Z",
     "shell.execute_reply": "2021-10-21T09:05:17.861265Z",
     "shell.execute_reply.started": "2021-10-21T09:05:12.660038Z"
    }
   },
   "outputs": [],
   "source": [
    "train_ds = tf.keras.preprocessing.image_dataset_from_directory(\n",
    "  data_dir,\n",
    "  labels=targets.tolist(),\n",
    "  validation_split=0.2,\n",
    "  subset=\"training\",\n",
    "  seed = 123,\n",
    "  image_size=(img_height, img_width),\n",
    "  batch_size=batch_size)"
   ]
  },
  {
   "cell_type": "code",
   "execution_count": 16,
   "metadata": {
    "execution": {
     "iopub.execute_input": "2021-10-21T09:05:17.864433Z",
     "iopub.status.busy": "2021-10-21T09:05:17.864223Z",
     "iopub.status.idle": "2021-10-21T09:05:19.285483Z",
     "shell.execute_reply": "2021-10-21T09:05:19.284035Z",
     "shell.execute_reply.started": "2021-10-21T09:05:17.864410Z"
    }
   },
   "outputs": [],
   "source": [
    "val_ds = tf.keras.preprocessing.image_dataset_from_directory(\n",
    "  data_dir,\n",
    "  labels=targets.tolist(),\n",
    "  validation_split=0.2,\n",
    "  subset=\"validation\",\n",
    "  seed=123,\n",
    "  image_size=(img_height, img_width),\n",
    "  batch_size=batch_size)"
   ]
  },
  {
   "cell_type": "code",
   "execution_count": 17,
   "metadata": {
    "execution": {
     "iopub.execute_input": "2021-10-21T09:05:19.286933Z",
     "iopub.status.busy": "2021-10-21T09:05:19.286678Z",
     "iopub.status.idle": "2021-10-21T09:05:22.525870Z",
     "shell.execute_reply": "2021-10-21T09:05:22.525048Z",
     "shell.execute_reply.started": "2021-10-21T09:05:19.286889Z"
    }
   },
   "outputs": [],
   "source": [
    "for images, labels in train_ds.take(1):  # only take first element of dataset\n",
    "    numpy_images = images.numpy()\n",
    "    numpy_labels = labels.numpy()"
   ]
  },
  {
   "cell_type": "code",
   "execution_count": 18,
   "metadata": {
    "execution": {
     "iopub.execute_input": "2021-10-21T09:05:22.527563Z",
     "iopub.status.busy": "2021-10-21T09:05:22.527276Z",
     "iopub.status.idle": "2021-10-21T09:05:22.535285Z",
     "shell.execute_reply": "2021-10-21T09:05:22.534558Z",
     "shell.execute_reply.started": "2021-10-21T09:05:22.527530Z"
    }
   },
   "outputs": [],
   "source": [
    "numpy_labels"
   ]
  },
  {
   "cell_type": "code",
   "execution_count": 19,
   "metadata": {
    "execution": {
     "iopub.execute_input": "2021-10-21T09:05:22.538344Z",
     "iopub.status.busy": "2021-10-21T09:05:22.536527Z",
     "iopub.status.idle": "2021-10-21T09:05:22.569896Z",
     "shell.execute_reply": "2021-10-21T09:05:22.569236Z",
     "shell.execute_reply.started": "2021-10-21T09:05:22.538287Z"
    }
   },
   "outputs": [],
   "source": [
    "num_classes = 2\n",
    "\n",
    "model = tf.keras.Sequential([\n",
    "  tf.keras.layers.experimental.preprocessing.Rescaling(1./255),\n",
    "  tf.keras.layers.Conv2D(32, 3, activation='relu'),\n",
    "  tf.keras.layers.MaxPooling2D(),\n",
    "  tf.keras.layers.Conv2D(32, 3, activation='relu'),\n",
    "  tf.keras.layers.MaxPooling2D(),\n",
    "  tf.keras.layers.Conv2D(32, 3, activation='relu'),\n",
    "  tf.keras.layers.MaxPooling2D(),\n",
    "  tf.keras.layers.Flatten(),\n",
    "  tf.keras.layers.Dense(128, activation='relu'),\n",
    "  tf.keras.layers.Dense(num_classes)\n",
    "])"
   ]
  },
  {
   "cell_type": "code",
   "execution_count": 20,
   "metadata": {
    "execution": {
     "iopub.execute_input": "2021-10-21T09:05:22.571384Z",
     "iopub.status.busy": "2021-10-21T09:05:22.571049Z",
     "iopub.status.idle": "2021-10-21T09:05:22.587644Z",
     "shell.execute_reply": "2021-10-21T09:05:22.586577Z",
     "shell.execute_reply.started": "2021-10-21T09:05:22.571340Z"
    }
   },
   "outputs": [],
   "source": [
    "from tensorflow.keras import optimizers\n",
    "model.compile(loss='mean_squared_error', optimizer=optimizers.RMSprop(lr=1e-4))"
   ]
  },
  {
   "cell_type": "code",
   "execution_count": 21,
   "metadata": {
    "execution": {
     "iopub.execute_input": "2021-10-21T09:05:22.591332Z",
     "iopub.status.busy": "2021-10-21T09:05:22.591057Z",
     "iopub.status.idle": "2021-10-21T09:31:30.231027Z",
     "shell.execute_reply": "2021-10-21T09:31:30.230273Z",
     "shell.execute_reply.started": "2021-10-21T09:05:22.591300Z"
    }
   },
   "outputs": [],
   "source": [
    "history = model.fit(train_ds, epochs=20, batch_size = batch_size, validation_data = val_ds)"
   ]
  },
  {
   "cell_type": "code",
   "execution_count": 22,
   "metadata": {
    "execution": {
     "iopub.execute_input": "2021-10-21T09:31:30.232981Z",
     "iopub.status.busy": "2021-10-21T09:31:30.232708Z",
     "iopub.status.idle": "2021-10-21T09:31:30.470452Z",
     "shell.execute_reply": "2021-10-21T09:31:30.469782Z",
     "shell.execute_reply.started": "2021-10-21T09:31:30.232943Z"
    }
   },
   "outputs": [],
   "source": [
    "plt.plot(history.history['loss'])\n",
    "plt.plot(history.history['val_loss'])\n",
    "plt.title('Model Loss')\n",
    "plt.ylabel('loss')\n",
    "plt.xlabel('epoch')\n",
    "plt.legend(['train', 'test'])\n",
    "plt.show()"
   ]
  },
  {
   "cell_type": "code",
   "execution_count": 23,
   "metadata": {
    "execution": {
     "iopub.execute_input": "2021-10-21T09:31:30.472061Z",
     "iopub.status.busy": "2021-10-21T09:31:30.471671Z",
     "iopub.status.idle": "2021-10-21T09:31:31.157815Z",
     "shell.execute_reply": "2021-10-21T09:31:31.157088Z",
     "shell.execute_reply.started": "2021-10-21T09:31:30.472025Z"
    }
   },
   "outputs": [],
   "source": [
    "test_dir = pathlib.Path(\"../input/comp90086-2021/COMP90086_2021_Project_test\")\n",
    "\n",
    "test_ds = tf.keras.preprocessing.image_dataset_from_directory(\n",
    "  test_dir,\n",
    "  label_mode=None,\n",
    "  image_size=(img_height, img_width),\n",
    "  batch_size=batch_size)"
   ]
  },
  {
   "cell_type": "code",
   "execution_count": 24,
   "metadata": {
    "execution": {
     "iopub.execute_input": "2021-10-21T09:31:31.159435Z",
     "iopub.status.busy": "2021-10-21T09:31:31.158888Z",
     "iopub.status.idle": "2021-10-21T09:31:47.062116Z",
     "shell.execute_reply": "2021-10-21T09:31:47.061274Z",
     "shell.execute_reply.started": "2021-10-21T09:31:31.159398Z"
    }
   },
   "outputs": [],
   "source": [
    "preds = model.predict(test_ds)"
   ]
  },
  {
   "cell_type": "code",
   "execution_count": 25,
   "metadata": {
    "execution": {
     "iopub.execute_input": "2021-10-21T09:31:47.064720Z",
     "iopub.status.busy": "2021-10-21T09:31:47.064293Z",
     "iopub.status.idle": "2021-10-21T09:31:47.071917Z",
     "shell.execute_reply": "2021-10-21T09:31:47.070859Z",
     "shell.execute_reply.started": "2021-10-21T09:31:47.064685Z"
    }
   },
   "outputs": [],
   "source": [
    "preds"
   ]
  },
  {
   "cell_type": "code",
   "execution_count": 26,
   "metadata": {
    "execution": {
     "iopub.execute_input": "2021-10-21T09:31:47.073780Z",
     "iopub.status.busy": "2021-10-21T09:31:47.073217Z",
     "iopub.status.idle": "2021-10-21T09:31:47.090273Z",
     "shell.execute_reply": "2021-10-21T09:31:47.089535Z",
     "shell.execute_reply.started": "2021-10-21T09:31:47.073744Z"
    }
   },
   "outputs": [],
   "source": [
    "import csv\n",
    "\n",
    "test_filenames = []\n",
    "with open(\"../input/comp90086-2021/COMP90086_2021_Project_test/imagenames.csv\", newline='') as inputfile:\n",
    "    reader = csv.reader(inputfile)\n",
    "    # skip header\n",
    "    header = next(reader)\n",
    "    \n",
    "    for row in reader:\n",
    "        test_filenames.append(str(row[0]))\n",
    "    \n",
    "test_filenames[0]"
   ]
  },
  {
   "cell_type": "code",
   "execution_count": 27,
   "metadata": {
    "execution": {
     "iopub.execute_input": "2021-10-21T09:31:47.092094Z",
     "iopub.status.busy": "2021-10-21T09:31:47.091418Z",
     "iopub.status.idle": "2021-10-21T09:31:47.103839Z",
     "shell.execute_reply": "2021-10-21T09:31:47.103089Z",
     "shell.execute_reply.started": "2021-10-21T09:31:47.092059Z"
    }
   },
   "outputs": [],
   "source": [
    "with open(\"submission.csv\",\"w\",newline=\"\") as csvfile:\n",
    "    writer=csv.writer(csvfile)\n",
    "    writer.writerow([\"id\",\"x\",\"y\"])\n",
    "    index = 0\n",
    "    for prediction in preds:\n",
    "        writer.writerow([test_filenames[index], preds[index][0], preds[index][1]])\n",
    "        index+=1"
   ]
  },
  {
   "cell_type": "code",
   "execution_count": null,
   "metadata": {},
   "outputs": [],
   "source": []
  }
 ],
 "metadata": {
  "kernelspec": {
   "display_name": "Python 3 (ipykernel)",
   "language": "python",
   "name": "python3"
  },
  "language_info": {
   "codemirror_mode": {
    "name": "ipython",
    "version": 3
   },
   "file_extension": ".py",
   "mimetype": "text/x-python",
   "name": "python",
   "nbconvert_exporter": "python",
   "pygments_lexer": "ipython3",
   "version": "3.7.7"
  }
 },
 "nbformat": 4,
 "nbformat_minor": 4
}
