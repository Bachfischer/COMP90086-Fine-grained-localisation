{
 "cells": [
  {
   "cell_type": "code",
   "execution_count": 1,
   "id": "9feb7484",
   "metadata": {},
   "outputs": [],
   "source": [
    "from fastai.vision.all import *\n",
    "import numpy as np\n",
    "import pandas as pdf\n",
    "import matplotlib.pyplot as plt"
   ]
  },
  {
   "cell_type": "code",
   "execution_count": 2,
   "id": "b95c1ea2",
   "metadata": {},
   "outputs": [],
   "source": [
    "import pathlib\n",
    "path = Path().absolute()"
   ]
  },
  {
   "cell_type": "code",
   "execution_count": 3,
   "id": "63458d4b",
   "metadata": {},
   "outputs": [
    {
     "data": {
      "text/plain": [
       "(#2) [Path('/Users/bachfischer/Documents/Study/Master - Data Science/Semester 4/Computer Vision/COMP90086-Fine-grained-localisation/src/playground.ipynb'),Path('/Users/bachfischer/Documents/Study/Master - Data Science/Semester 4/Computer Vision/COMP90086-Fine-grained-localisation/src/.ipynb_checkpoints')]"
      ]
     },
     "execution_count": 3,
     "metadata": {},
     "output_type": "execute_result"
    }
   ],
   "source": [
    "path.ls()"
   ]
  },
  {
   "cell_type": "code",
   "execution_count": 4,
   "id": "98222c39",
   "metadata": {},
   "outputs": [],
   "source": [
    "train_images = sorted(get_image_files(path/\"../data/COMP90086_2021_Project_train/train/\"))"
   ]
  },
  {
   "cell_type": "code",
   "execution_count": 5,
   "id": "715b5cdb",
   "metadata": {},
   "outputs": [
    {
     "name": "stdout",
     "output_type": "stream",
     "text": [
      "Number of images in training dataset:  7500\n"
     ]
    }
   ],
   "source": [
    "print(\"Number of images in training dataset: \", len(train_images))"
   ]
  },
  {
   "cell_type": "code",
   "execution_count": 26,
   "id": "e3ad6157",
   "metadata": {},
   "outputs": [],
   "source": [
    "train_df = pd.read_csv(\"../data/COMP90086_2021_Project_train/train.csv\")"
   ]
  },
  {
   "cell_type": "code",
   "execution_count": 18,
   "id": "e53f8ca7",
   "metadata": {},
   "outputs": [
    {
     "data": {
      "text/html": [
       "<div>\n",
       "<style scoped>\n",
       "    .dataframe tbody tr th:only-of-type {\n",
       "        vertical-align: middle;\n",
       "    }\n",
       "\n",
       "    .dataframe tbody tr th {\n",
       "        vertical-align: top;\n",
       "    }\n",
       "\n",
       "    .dataframe thead th {\n",
       "        text-align: right;\n",
       "    }\n",
       "</style>\n",
       "<table border=\"1\" class=\"dataframe\">\n",
       "  <thead>\n",
       "    <tr style=\"text-align: right;\">\n",
       "      <th></th>\n",
       "      <th>id</th>\n",
       "      <th>x</th>\n",
       "      <th>y</th>\n",
       "    </tr>\n",
       "  </thead>\n",
       "  <tbody>\n",
       "    <tr>\n",
       "      <th>0</th>\n",
       "      <td>IMG2744_1</td>\n",
       "      <td>-9.380678</td>\n",
       "      <td>3.58271965</td>\n",
       "    </tr>\n",
       "    <tr>\n",
       "      <th>1</th>\n",
       "      <td>IMG2744_2</td>\n",
       "      <td>-9.380678</td>\n",
       "      <td>3.58271965</td>\n",
       "    </tr>\n",
       "    <tr>\n",
       "      <th>2</th>\n",
       "      <td>IMG2744_3</td>\n",
       "      <td>-9.380678</td>\n",
       "      <td>3.58271965</td>\n",
       "    </tr>\n",
       "    <tr>\n",
       "      <th>3</th>\n",
       "      <td>IMG2744_4</td>\n",
       "      <td>-9.380678</td>\n",
       "      <td>3.58271965</td>\n",
       "    </tr>\n",
       "    <tr>\n",
       "      <th>4</th>\n",
       "      <td>IMG2744_5</td>\n",
       "      <td>-9.380678</td>\n",
       "      <td>3.58271965</td>\n",
       "    </tr>\n",
       "    <tr>\n",
       "      <th>...</th>\n",
       "      <td>...</td>\n",
       "      <td>...</td>\n",
       "      <td>...</td>\n",
       "    </tr>\n",
       "    <tr>\n",
       "      <th>7495</th>\n",
       "      <td>IMG4243_1</td>\n",
       "      <td>-4.680678</td>\n",
       "      <td>35.18271965</td>\n",
       "    </tr>\n",
       "    <tr>\n",
       "      <th>7496</th>\n",
       "      <td>IMG4243_2</td>\n",
       "      <td>-4.680678</td>\n",
       "      <td>35.18271965</td>\n",
       "    </tr>\n",
       "    <tr>\n",
       "      <th>7497</th>\n",
       "      <td>IMG4243_3</td>\n",
       "      <td>-4.680678</td>\n",
       "      <td>35.18271965</td>\n",
       "    </tr>\n",
       "    <tr>\n",
       "      <th>7498</th>\n",
       "      <td>IMG4243_4</td>\n",
       "      <td>-4.680678</td>\n",
       "      <td>35.18271965</td>\n",
       "    </tr>\n",
       "    <tr>\n",
       "      <th>7499</th>\n",
       "      <td>IMG4243_5</td>\n",
       "      <td>-4.680678</td>\n",
       "      <td>35.18271965</td>\n",
       "    </tr>\n",
       "  </tbody>\n",
       "</table>\n",
       "<p>7500 rows × 3 columns</p>\n",
       "</div>"
      ],
      "text/plain": [
       "             id         x            y\n",
       "0     IMG2744_1 -9.380678   3.58271965\n",
       "1     IMG2744_2 -9.380678   3.58271965\n",
       "2     IMG2744_3 -9.380678   3.58271965\n",
       "3     IMG2744_4 -9.380678   3.58271965\n",
       "4     IMG2744_5 -9.380678   3.58271965\n",
       "...         ...       ...          ...\n",
       "7495  IMG4243_1 -4.680678  35.18271965\n",
       "7496  IMG4243_2 -4.680678  35.18271965\n",
       "7497  IMG4243_3 -4.680678  35.18271965\n",
       "7498  IMG4243_4 -4.680678  35.18271965\n",
       "7499  IMG4243_5 -4.680678  35.18271965\n",
       "\n",
       "[7500 rows x 3 columns]"
      ]
     },
     "execution_count": 18,
     "metadata": {},
     "output_type": "execute_result"
    }
   ],
   "source": [
    "train_df"
   ]
  },
  {
   "cell_type": "markdown",
   "id": "eaf9e61a",
   "metadata": {},
   "source": [
    "# Experiment 1\n",
    "\n",
    "Source: https://www.kaggle.com/neilslab/predict-streetview-gps-using-images?select=Street+View+Images"
   ]
  },
  {
   "cell_type": "code",
   "execution_count": null,
   "id": "7149cb66",
   "metadata": {},
   "outputs": [],
   "source": [
    "imgs = [plt.imread(fname) for fname in train_images]\n",
    "#imgs = [resize(img_i, (100, 100)) for img_i in imgs]\n",
    "imgs = np.array(imgs).astype(np.float32)"
   ]
  },
  {
   "cell_type": "code",
   "execution_count": null,
   "id": "c71e696b",
   "metadata": {},
   "outputs": [],
   "source": [
    "print(\"Localisation data and corresponding image:\\n\\n\", train_df.iloc[-1, :].T)\n",
    "plt.imshow(imgs[-1])"
   ]
  },
  {
   "cell_type": "code",
   "execution_count": null,
   "id": "06628cef",
   "metadata": {},
   "outputs": [],
   "source": [
    "from keras.models import Sequential\n",
    "from keras.layers import Dense\n",
    "from keras.layers import Dropout\n",
    "from keras.layers import Flatten\n",
    "from keras.layers.convolutional import Conv2D\n",
    "from keras.layers.convolutional import MaxPooling2D\n",
    "from keras.constraints import maxnorm\n",
    "from keras.optimizers import SGD\n",
    "from keras.layers.normalization import BatchNormalization"
   ]
  },
  {
   "cell_type": "code",
   "execution_count": null,
   "id": "26dcada6",
   "metadata": {},
   "outputs": [],
   "source": [
    "model = Sequential()\n",
    "model.add(Conv2D(32, (3, 3), activation='relu', input_shape=(680, 490, 3)))\n",
    "model.add(MaxPooling2D((2, 2)))\n",
    "model.add(BatchNormalization())\n",
    "model.add(Dropout(0.3))\n",
    "model.add(Conv2D(32, (3, 3), activation='relu'))\n",
    "model.add(MaxPooling2D((2, 2)))\n",
    "model.add(BatchNormalization())\n",
    "model.add(Dropout(0.3))\n",
    "model.add(Conv2D(64, (3, 3), activation='relu'))\n",
    "model.add(MaxPooling2D((2, 2)))\n",
    "model.add(BatchNormalization())\n",
    "model.add(Dropout(0.3))\n",
    "model.add(Conv2D(64, (3, 3), activation='relu'))\n",
    "model.add(MaxPooling2D((2, 2)))\n",
    "model.add(BatchNormalization())\n",
    "model.add(Dropout(0.3))\n",
    "model.add(Flatten())\n",
    "model.add(Dense(256, activation='relu'))\n",
    "model.add(BatchNormalization())\n",
    "model.add(Dropout(0.3))\n",
    "model.add(Dense(2))"
   ]
  },
  {
   "cell_type": "code",
   "execution_count": null,
   "id": "9ee72674",
   "metadata": {},
   "outputs": [],
   "source": [
    "targets = pd.concat([train_df.iloc[:,1], gps_coords.iloc[:,2]], axis=1)\n",
    "inputs = imgs"
   ]
  },
  {
   "cell_type": "code",
   "execution_count": null,
   "id": "eb5eac03",
   "metadata": {},
   "outputs": [],
   "source": [
    "from sklearn.preprocessing import MinMaxScaler\n",
    "from sklearn.model_selection import train_test_split\n",
    "\n",
    "scaler = MinMaxScaler()\n",
    "target_scaler = scaler.fit(targets)\n",
    "targets = target_scaler.transform(targets)\n",
    "x_train, x_test, y_train, y_test = train_test_split(inputs, targets, random_state=5,\n",
    "                                                   test_size=0.25)"
   ]
  },
  {
   "cell_type": "code",
   "execution_count": null,
   "id": "96f85f73",
   "metadata": {},
   "outputs": [],
   "source": [
    "history = model.fit(x_train, y_train, epochs=50, batch_size=5,\n",
    "                   validation_data=(x_test, y_test))"
   ]
  },
  {
   "cell_type": "code",
   "execution_count": null,
   "id": "d02b4c10",
   "metadata": {},
   "outputs": [],
   "source": [
    "plt.plot(history.history['loss'])\n",
    "plt.plot(history.history['val_loss'])\n",
    "plt.title('model accuracy')\n",
    "plt.ylabel('loss')\n",
    "plt.xlabel('epoch')\n",
    "plt.legend(['train', 'test'])\n",
    "plt.show()"
   ]
  },
  {
   "cell_type": "code",
   "execution_count": null,
   "id": "ff868c3f",
   "metadata": {},
   "outputs": [],
   "source": [
    "from sklearn.metrics import mean_squared_error\n",
    "target_1 = targets[0].reshape(1,2)"
   ]
  },
  {
   "cell_type": "code",
   "execution_count": null,
   "id": "95a23d02",
   "metadata": {},
   "outputs": [],
   "source": [
    "pred = model.predict(np.reshape(imgs[-1], (1,100,100,3)))\n",
    "pred = target_scaler.inverse_transform(pred)\n",
    "target_1 = target_scaler.inverse_transform(target_1)\n",
    "print(\"MSE: \", (mean_squared_error(target_1, pred)))"
   ]
  },
  {
   "cell_type": "code",
   "execution_count": null,
   "id": "efcccc5d",
   "metadata": {},
   "outputs": [],
   "source": [
    "comparison = np.concatenate((pred, target_1), axis=1)\n",
    "comparison = pd.DataFrame(comparison)\n",
    "comparison.columns = ['Predicted x', 'Predicted y', 'True x', 'True y']\n",
    "comparison = pd.concat([comparison['Predicted x'], comparison['True x'], comparison['Predicted y'], comparison['True y']], axis=1)                     \n",
    "comparison.head()"
   ]
  },
  {
   "cell_type": "code",
   "execution_count": null,
   "id": "19295aa5",
   "metadata": {},
   "outputs": [],
   "source": []
  },
  {
   "cell_type": "code",
   "execution_count": null,
   "id": "7d042cd3",
   "metadata": {},
   "outputs": [],
   "source": []
  },
  {
   "cell_type": "markdown",
   "id": "6f64f8b4",
   "metadata": {},
   "source": [
    "## Experiment 2 (fastai)\n",
    "\n",
    "Notes: https://fastai1.fast.ai/vision.image.html\n",
    "Notes: https://docs.fast.ai/tutorial.imagenette.html"
   ]
  },
  {
   "cell_type": "code",
   "execution_count": null,
   "id": "c4935994",
   "metadata": {},
   "outputs": [],
   "source": [
    "dls = ImageDataLoaders.from_folder(path/\"../data/COMP90086_2021_Project_train/train/\", valid_pct=0.2)"
   ]
  },
  {
   "cell_type": "code",
   "execution_count": null,
   "id": "c2d770f5",
   "metadata": {},
   "outputs": [],
   "source": [
    "dls.show_batch()"
   ]
  }
 ],
 "metadata": {
  "kernelspec": {
   "display_name": "Python 3 (ipykernel)",
   "language": "python",
   "name": "python3"
  },
  "language_info": {
   "codemirror_mode": {
    "name": "ipython",
    "version": 3
   },
   "file_extension": ".py",
   "mimetype": "text/x-python",
   "name": "python",
   "nbconvert_exporter": "python",
   "pygments_lexer": "ipython3",
   "version": "3.7.7"
  }
 },
 "nbformat": 4,
 "nbformat_minor": 5
}
