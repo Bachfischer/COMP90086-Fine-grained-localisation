{
 "cells": [
  {
   "cell_type": "code",
   "execution_count": 2,
   "id": "67f266a7",
   "metadata": {},
   "outputs": [
    {
     "name": "stdout",
     "output_type": "stream",
     "text": [
      "Collecting kapture\n",
      "  Downloading kapture-1.1.5-py3-none-any.whl (262 kB)\n",
      "\u001b[K     |████████████████████████████████| 262 kB 659 kB/s eta 0:00:01\n",
      "\u001b[?25hRequirement already satisfied: pyyaml>=5.1 in /Users/bachfischer/opt/anaconda3/envs/computer-vision/lib/python3.7/site-packages (from kapture) (5.4.1)\n",
      "Collecting wcmatch>=5.0\n",
      "  Downloading wcmatch-8.2-py3-none-any.whl (41 kB)\n",
      "\u001b[K     |████████████████████████████████| 41 kB 349 kB/s eta 0:00:01\n",
      "\u001b[?25hRequirement already satisfied: Pillow>=8.1.1 in /Users/bachfischer/opt/anaconda3/envs/computer-vision/lib/python3.7/site-packages (from kapture) (8.3.1)\n",
      "Requirement already satisfied: scipy>=1.4 in /Users/bachfischer/opt/anaconda3/envs/computer-vision/lib/python3.7/site-packages (from kapture) (1.7.1)\n",
      "Requirement already satisfied: numpy>=1.16 in /Users/bachfischer/opt/anaconda3/envs/computer-vision/lib/python3.7/site-packages (from kapture) (1.20.3)\n",
      "Requirement already satisfied: pytz>=2021.1 in /Users/bachfischer/opt/anaconda3/envs/computer-vision/lib/python3.7/site-packages (from kapture) (2021.1)\n",
      "Requirement already satisfied: requests>=2.21 in /Users/bachfischer/opt/anaconda3/envs/computer-vision/lib/python3.7/site-packages (from kapture) (2.26.0)\n",
      "Requirement already satisfied: tqdm>=4.30 in /Users/bachfischer/opt/anaconda3/envs/computer-vision/lib/python3.7/site-packages (from kapture) (4.62.1)\n",
      "Collecting piexif==1.1.3\n",
      "  Downloading piexif-1.1.3-py2.py3-none-any.whl (20 kB)\n",
      "Collecting numpy-quaternion>=2019.3.18.14.33.20\n",
      "  Downloading numpy_quaternion-2021.8.30.10.33.11-cp37-cp37m-macosx_10_9_x86_64.whl (57 kB)\n",
      "\u001b[K     |████████████████████████████████| 57 kB 1.5 MB/s eta 0:00:01\n",
      "\u001b[?25hRequirement already satisfied: matplotlib>=3.0 in /Users/bachfischer/opt/anaconda3/envs/computer-vision/lib/python3.7/site-packages (from kapture) (3.4.2)\n",
      "Collecting tabulate>=0.8.7\n",
      "  Downloading tabulate-0.8.9-py3-none-any.whl (25 kB)\n",
      "Requirement already satisfied: numba>=0.42 in /Users/bachfischer/opt/anaconda3/envs/computer-vision/lib/python3.7/site-packages (from kapture) (0.53.0)\n",
      "Requirement already satisfied: kiwisolver>=1.0.1 in /Users/bachfischer/opt/anaconda3/envs/computer-vision/lib/python3.7/site-packages (from matplotlib>=3.0->kapture) (1.3.1)\n",
      "Requirement already satisfied: cycler>=0.10 in /Users/bachfischer/opt/anaconda3/envs/computer-vision/lib/python3.7/site-packages (from matplotlib>=3.0->kapture) (0.10.0)\n",
      "Requirement already satisfied: python-dateutil>=2.7 in /Users/bachfischer/opt/anaconda3/envs/computer-vision/lib/python3.7/site-packages (from matplotlib>=3.0->kapture) (2.8.2)\n",
      "Requirement already satisfied: pyparsing>=2.2.1 in /Users/bachfischer/opt/anaconda3/envs/computer-vision/lib/python3.7/site-packages (from matplotlib>=3.0->kapture) (2.4.7)\n",
      "Requirement already satisfied: six in /Users/bachfischer/opt/anaconda3/envs/computer-vision/lib/python3.7/site-packages (from cycler>=0.10->matplotlib>=3.0->kapture) (1.16.0)\n",
      "Requirement already satisfied: llvmlite<0.37,>=0.36.0rc1 in /Users/bachfischer/opt/anaconda3/envs/computer-vision/lib/python3.7/site-packages (from numba>=0.42->kapture) (0.36.0)\n",
      "Requirement already satisfied: setuptools in /Users/bachfischer/opt/anaconda3/envs/computer-vision/lib/python3.7/site-packages (from numba>=0.42->kapture) (52.0.0.post20210125)\n",
      "Requirement already satisfied: charset-normalizer~=2.0.0 in /Users/bachfischer/opt/anaconda3/envs/computer-vision/lib/python3.7/site-packages (from requests>=2.21->kapture) (2.0.4)\n",
      "Requirement already satisfied: idna<4,>=2.5 in /Users/bachfischer/opt/anaconda3/envs/computer-vision/lib/python3.7/site-packages (from requests>=2.21->kapture) (3.2)\n",
      "Requirement already satisfied: urllib3<1.27,>=1.21.1 in /Users/bachfischer/opt/anaconda3/envs/computer-vision/lib/python3.7/site-packages (from requests>=2.21->kapture) (1.26.6)\n",
      "Requirement already satisfied: certifi>=2017.4.17 in /Users/bachfischer/opt/anaconda3/envs/computer-vision/lib/python3.7/site-packages (from requests>=2.21->kapture) (2021.5.30)\n",
      "Collecting bracex>=2.1.1\n",
      "  Downloading bracex-2.1.1-py3-none-any.whl (10 kB)\n",
      "Installing collected packages: bracex, wcmatch, tabulate, piexif, numpy-quaternion, kapture\n",
      "Successfully installed bracex-2.1.1 kapture-1.1.5 numpy-quaternion-2021.8.30.10.33.11 piexif-1.1.3 tabulate-0.8.9 wcmatch-8.2\n"
     ]
    }
   ],
   "source": [
    "!pip install kapture"
   ]
  },
  {
   "cell_type": "code",
   "execution_count": null,
   "id": "f31c9841",
   "metadata": {},
   "outputs": [],
   "source": []
  }
 ],
 "metadata": {
  "kernelspec": {
   "display_name": "Python 3 (ipykernel)",
   "language": "python",
   "name": "python3"
  },
  "language_info": {
   "codemirror_mode": {
    "name": "ipython",
    "version": 3
   },
   "file_extension": ".py",
   "mimetype": "text/x-python",
   "name": "python",
   "nbconvert_exporter": "python",
   "pygments_lexer": "ipython3",
   "version": "3.7.7"
  }
 },
 "nbformat": 4,
 "nbformat_minor": 5
}
